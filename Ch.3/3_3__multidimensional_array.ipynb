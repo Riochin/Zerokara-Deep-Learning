{
  "nbformat": 4,
  "nbformat_minor": 0,
  "metadata": {
    "colab": {
      "provenance": [],
      "authorship_tag": "ABX9TyO3UErKp8EXhobHoX9hX6Dn",
      "include_colab_link": true
    },
    "kernelspec": {
      "name": "python3",
      "display_name": "Python 3"
    },
    "language_info": {
      "name": "python"
    }
  },
  "cells": [
    {
      "cell_type": "markdown",
      "metadata": {
        "id": "view-in-github",
        "colab_type": "text"
      },
      "source": [
        "<a href=\"https://colab.research.google.com/github/Riochin/Zerokara-Deep-Learning/blob/main/3_3__multidimensional_array.ipynb\" target=\"_parent\"><img src=\"https://colab.research.google.com/assets/colab-badge.svg\" alt=\"Open In Colab\"/></a>"
      ]
    },
    {
      "cell_type": "markdown",
      "source": [
        "# 3.3 多次元配列の計算"
      ],
      "metadata": {
        "id": "kJG4XOhMpn3r"
      }
    },
    {
      "cell_type": "code",
      "execution_count": 1,
      "metadata": {
        "colab": {
          "base_uri": "https://localhost:8080/"
        },
        "id": "QHx1FLSOpdsn",
        "outputId": "c3fc7cdb-48e9-4d62-835d-f282e36679d7"
      },
      "outputs": [
        {
          "output_type": "stream",
          "name": "stdout",
          "text": [
            "[1 2 3 4]\n"
          ]
        },
        {
          "output_type": "execute_result",
          "data": {
            "text/plain": [
              "4"
            ]
          },
          "metadata": {},
          "execution_count": 1
        }
      ],
      "source": [
        "import numpy as np\n",
        "A = np.array([1,2,3,4])\n",
        "print(A)\n",
        "\n",
        "np.ndim(A)\n",
        "A.shape # shapeで 行*列がタプル型で出力される\n",
        "A.shape[0]"
      ]
    },
    {
      "cell_type": "code",
      "source": [
        "B = np.array([[1,2],[3,4],[5,6]])\n",
        "print(B)\n",
        "\n",
        "np.ndim(B)\n",
        "B.shape  # 3 * 2の配列であるので、(3,2)"
      ],
      "metadata": {
        "colab": {
          "base_uri": "https://localhost:8080/"
        },
        "id": "3bCIGEybqo83",
        "outputId": "41d8b08a-5bee-4682-a130-84d3e9d0951d"
      },
      "execution_count": 4,
      "outputs": [
        {
          "output_type": "stream",
          "name": "stdout",
          "text": [
            "[[1 2]\n",
            " [3 4]\n",
            " [5 6]]\n"
          ]
        },
        {
          "output_type": "execute_result",
          "data": {
            "text/plain": [
              "(3, 2)"
            ]
          },
          "metadata": {},
          "execution_count": 4
        }
      ]
    },
    {
      "cell_type": "markdown",
      "source": [
        "## 3.3.2 行列の積"
      ],
      "metadata": {
        "id": "cIva5zfqrXBK"
      }
    },
    {
      "cell_type": "code",
      "source": [
        "A = np.array([[1,2],[3,4]])\n",
        "A.shape\n",
        "\n",
        "B = np.array([[5,6],[7,8]])\n",
        "\n",
        "np.dot(A,B) # dot -> ドット積"
      ],
      "metadata": {
        "colab": {
          "base_uri": "https://localhost:8080/"
        },
        "id": "5kmVMN7NrbTn",
        "outputId": "b655c480-f599-48ef-a4e8-f2c1b86ecbce"
      },
      "execution_count": 6,
      "outputs": [
        {
          "output_type": "execute_result",
          "data": {
            "text/plain": [
              "array([[19, 22],\n",
              "       [43, 50]])"
            ]
          },
          "metadata": {},
          "execution_count": 6
        }
      ]
    },
    {
      "cell_type": "code",
      "source": [
        "A = np.array([[1,2,3], [4,5,6]])\n",
        "A.shape\n",
        "\n",
        "B = np.array([[1,2], [3,4], [5,6]])\n",
        "B.shape\n",
        "\n",
        "np.dot(A,B)"
      ],
      "metadata": {
        "colab": {
          "base_uri": "https://localhost:8080/"
        },
        "id": "wtaO_d1HsGBX",
        "outputId": "60fb3d37-c24d-4549-c7f1-cd0afa3deab8"
      },
      "execution_count": 7,
      "outputs": [
        {
          "output_type": "execute_result",
          "data": {
            "text/plain": [
              "array([[22, 28],\n",
              "       [49, 64]])"
            ]
          },
          "metadata": {},
          "execution_count": 7
        }
      ]
    },
    {
      "cell_type": "code",
      "source": [
        "# １要素目の列と２要素目の行が同じじゃないとエラー\n",
        "\n",
        "C = np.array([[1,2], [3,4]])\n",
        "C.shape\n",
        "A.shape\n",
        "np.dot(A, C)"
      ],
      "metadata": {
        "colab": {
          "base_uri": "https://localhost:8080/",
          "height": 176
        },
        "id": "hsGT_p4XsckB",
        "outputId": "10949827-9f6f-455d-91da-e0eb8f274a53"
      },
      "execution_count": 8,
      "outputs": [
        {
          "output_type": "error",
          "ename": "ValueError",
          "evalue": "shapes (2,3) and (2,2) not aligned: 3 (dim 1) != 2 (dim 0)",
          "traceback": [
            "\u001b[0;31m---------------------------------------------------------------------------\u001b[0m",
            "\u001b[0;31mValueError\u001b[0m                                Traceback (most recent call last)",
            "\u001b[0;32m<ipython-input-8-ce3255cee285>\u001b[0m in \u001b[0;36m<cell line: 0>\u001b[0;34m()\u001b[0m\n\u001b[1;32m      3\u001b[0m \u001b[0mC\u001b[0m\u001b[0;34m.\u001b[0m\u001b[0mshape\u001b[0m\u001b[0;34m\u001b[0m\u001b[0;34m\u001b[0m\u001b[0m\n\u001b[1;32m      4\u001b[0m \u001b[0mA\u001b[0m\u001b[0;34m.\u001b[0m\u001b[0mshape\u001b[0m\u001b[0;34m\u001b[0m\u001b[0;34m\u001b[0m\u001b[0m\n\u001b[0;32m----> 5\u001b[0;31m \u001b[0mnp\u001b[0m\u001b[0;34m.\u001b[0m\u001b[0mdot\u001b[0m\u001b[0;34m(\u001b[0m\u001b[0mA\u001b[0m\u001b[0;34m,\u001b[0m \u001b[0mC\u001b[0m\u001b[0;34m)\u001b[0m\u001b[0;34m\u001b[0m\u001b[0;34m\u001b[0m\u001b[0m\n\u001b[0m",
            "\u001b[0;31mValueError\u001b[0m: shapes (2,3) and (2,2) not aligned: 3 (dim 1) != 2 (dim 0)"
          ]
        }
      ]
    },
    {
      "cell_type": "markdown",
      "source": [
        "## 3.3.3 ニューラルネットワークの行列の積\n",
        "> np.dotを使ってYの結果を一気に計算できる。"
      ],
      "metadata": {
        "id": "o1cgxrDN3i28"
      }
    },
    {
      "cell_type": "code",
      "source": [
        "X = np.array([1,2])\n",
        "X .shape # (2,)\n",
        "\n",
        "W = np.array([[1,3,5],[2,4,6]])\n",
        "print(W)\n",
        "W.shape # (2,3)\n",
        "\n",
        "Y = np.dot(X,W)\n",
        "print(Y)"
      ],
      "metadata": {
        "colab": {
          "base_uri": "https://localhost:8080/"
        },
        "id": "GMD1AhUW3o5k",
        "outputId": "55b45b5f-1d56-48c0-ba13-16ff995ee1b3"
      },
      "execution_count": 9,
      "outputs": [
        {
          "output_type": "stream",
          "name": "stdout",
          "text": [
            "[[1 3 5]\n",
            " [2 4 6]]\n",
            "[ 5 11 17]\n"
          ]
        }
      ]
    }
  ]
}