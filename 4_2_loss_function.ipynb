{
  "nbformat": 4,
  "nbformat_minor": 0,
  "metadata": {
    "colab": {
      "provenance": [],
      "authorship_tag": "ABX9TyMLa7itIYJbP1QFXuF/O8Xw",
      "include_colab_link": true
    },
    "kernelspec": {
      "name": "python3",
      "display_name": "Python 3"
    },
    "language_info": {
      "name": "python"
    }
  },
  "cells": [
    {
      "cell_type": "markdown",
      "metadata": {
        "id": "view-in-github",
        "colab_type": "text"
      },
      "source": [
        "<a href=\"https://colab.research.google.com/github/Riochin/Zerokara-Deep-Learning/blob/main/4_2_loss_function.ipynb\" target=\"_parent\"><img src=\"https://colab.research.google.com/assets/colab-badge.svg\" alt=\"Open In Colab\"/></a>"
      ]
    },
    {
      "cell_type": "markdown",
      "source": [
        "# 4.2 損失関数（loss function）"
      ],
      "metadata": {
        "id": "YQqqpELdjXkC"
      }
    },
    {
      "cell_type": "markdown",
      "source": [
        "## 4.2.1 二乗和誤差 (sum of squared error)"
      ],
      "metadata": {
        "id": "uAq5AHOah0ww"
      }
    },
    {
      "cell_type": "code",
      "source": [
        "import numpy as np"
      ],
      "metadata": {
        "id": "o-g4wnr2iCVx"
      },
      "execution_count": 1,
      "outputs": []
    },
    {
      "cell_type": "markdown",
      "source": [
        "#### 二乗和誤差の定義"
      ],
      "metadata": {
        "id": "MeTywh-ciIz0"
      }
    },
    {
      "cell_type": "code",
      "execution_count": 4,
      "metadata": {
        "id": "RfpziPAWhGJL"
      },
      "outputs": [],
      "source": [
        "def sum_squared_error(y,t):\n",
        "  return 0.5 * np.sum((y-t)**2)"
      ]
    },
    {
      "cell_type": "markdown",
      "source": [
        "#### 実行サンプル"
      ],
      "metadata": {
        "id": "yzb2QTNaiMHi"
      }
    },
    {
      "cell_type": "code",
      "source": [
        "t = [0,0,1,0,0,0,0,0,0,0]\n",
        "\n",
        "# 例1：「2」の確率が最も高い場合（0.6）\n",
        "y = [0.1,0.05,0.6,0.0,0.05,0.1,0.0,0.1,0.0,0.0]\n",
        "sum_squared_error(np.array(y), np.array(t))"
      ],
      "metadata": {
        "colab": {
          "base_uri": "https://localhost:8080/"
        },
        "id": "hR3aTMTBiPzw",
        "outputId": "d2d2b1fb-8c48-425f-869e-8c9657026cc8"
      },
      "execution_count": 5,
      "outputs": [
        {
          "output_type": "execute_result",
          "data": {
            "text/plain": [
              "np.float64(0.09750000000000003)"
            ]
          },
          "metadata": {},
          "execution_count": 5
        }
      ]
    },
    {
      "cell_type": "code",
      "source": [
        "y = [0.1, 0.05, 0.1, 0.0, 0.05, 0.1, 0.0, 0.6, 0.0, 0.0]\n",
        "sum_squared_error(np.array(y), np.array(t))"
      ],
      "metadata": {
        "colab": {
          "base_uri": "https://localhost:8080/"
        },
        "id": "5WO_7s-LirvA",
        "outputId": "ddf0a082-61f4-4de7-ab0e-a6c46b746a93"
      },
      "execution_count": 6,
      "outputs": [
        {
          "output_type": "execute_result",
          "data": {
            "text/plain": [
              "np.float64(0.5975)"
            ]
          },
          "metadata": {},
          "execution_count": 6
        }
      ]
    }
  ]
}