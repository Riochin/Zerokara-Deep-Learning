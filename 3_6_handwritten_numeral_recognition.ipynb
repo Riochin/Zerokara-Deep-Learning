{
  "nbformat": 4,
  "nbformat_minor": 0,
  "metadata": {
    "colab": {
      "provenance": [],
      "authorship_tag": "ABX9TyNM18ZRqmzpRoiH0gz4+Q6g",
      "include_colab_link": true
    },
    "kernelspec": {
      "name": "python3",
      "display_name": "Python 3"
    },
    "language_info": {
      "name": "python"
    }
  },
  "cells": [
    {
      "cell_type": "markdown",
      "metadata": {
        "id": "view-in-github",
        "colab_type": "text"
      },
      "source": [
        "<a href=\"https://colab.research.google.com/github/Riochin/Zerokara-Deep-Learning/blob/main/3_6_handwritten_numeral_recognition.ipynb\" target=\"_parent\"><img src=\"https://colab.research.google.com/assets/colab-badge.svg\" alt=\"Open In Colab\"/></a>"
      ]
    },
    {
      "cell_type": "markdown",
      "source": [
        "# 3.6 手書き数字の認識"
      ],
      "metadata": {
        "id": "1_d30b3YgxYe"
      }
    },
    {
      "cell_type": "markdown",
      "source": [
        "## 3.6.1 MNISTデータセット\n",
        "\n",
        "> MNISTデータセットは、0から9までの数字画像から構成されます（図3-24）。訓練画像が60,000枚、テスト画像が10,000枚用意されており、それらの画像を使用して、学習と推論を行います。"
      ],
      "metadata": {
        "id": "HsY5Nj60g1j4"
      }
    },
    {
      "cell_type": "markdown",
      "source": [
        "### load_mnist関数：\n",
        "- normalize: 入力画像の正規化（T/F）\n",
        "- flatten: 入力画像を１次元配列にするか（T/F） Fで三次元\n",
        "- one_hot_label: one-hot表現として格納するか（T/F）"
      ],
      "metadata": {
        "id": "7rEBFDpChAhJ"
      }
    },
    {
      "source": [
        "from mnist import load_mnist\n",
        "\n",
        "(x_train, t_train), (x_test, t_test) = \\\n",
        "  load_mnist(flatten=True, normalize=False)\n",
        "\n",
        "print(x_train.shape)\n",
        "print(t_train.shape)\n",
        "print(x_test.shape)\n",
        "print(t_test.shape)"
      ],
      "cell_type": "code",
      "metadata": {
        "colab": {
          "base_uri": "https://localhost:8080/"
        },
        "id": "G1VxbZ6_gUMu",
        "outputId": "f9c0823a-4a59-4e7b-80ce-3f897c191741"
      },
      "execution_count": 4,
      "outputs": [
        {
          "output_type": "stream",
          "name": "stdout",
          "text": [
            "(60000, 784)\n",
            "(60000,)\n",
            "(10000, 784)\n",
            "(10000,)\n"
          ]
        }
      ]
    },
    {
      "cell_type": "markdown",
      "source": [
        "### MNIST画像の表示"
      ],
      "metadata": {
        "id": "7HUEUdP9hzDm"
      }
    },
    {
      "cell_type": "code",
      "source": [
        "import numpy as np\n",
        "from PIL import Image\n",
        "\n",
        "def img_show(img):\n",
        "  pil_img = Image.fromarray(np.uint8(img))\n",
        "  pil_img.show()\n",
        "\n",
        "(x_train, t_train), (x_test, t_test) = \\\n",
        "    load_mnist(flatten=True, normalize=False)\n",
        "\n",
        "img = x_train[0]\n",
        "label = t_train[0]\n",
        "print(label) #5\n",
        "\n",
        "print(img.shape)\n",
        "img = img.reshape(28,28)\n",
        "print(img.shape)\n",
        "\n",
        "img_show(img)"
      ],
      "metadata": {
        "colab": {
          "base_uri": "https://localhost:8080/"
        },
        "id": "3N6wKtsBh2E2",
        "outputId": "1d71cc8f-273a-4567-e233-813f53bce655"
      },
      "execution_count": 6,
      "outputs": [
        {
          "output_type": "stream",
          "name": "stdout",
          "text": [
            "5\n",
            "(784,)\n",
            "(28, 28)\n"
          ]
        }
      ]
    }
  ]
}